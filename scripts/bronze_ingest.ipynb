{
 "cells": [
  {
   "cell_type": "code",
   "execution_count": 3,
   "id": "e0369e4e",
   "metadata": {
    "vscode": {
     "languageId": "plaintext"
    }
   },
   "outputs": [],
   "source": [
    "import dlt\n",
    "import pyarrow.parquet as pq\n",
    "import pyarrow.dataset as ds\n",
    "import fsspec\n",
    "from aiohttp import ClientTimeout"
   ]
  },
  {
   "cell_type": "code",
   "execution_count": 3,
   "id": "2607b0c4-8bc3-4be5-9b73-f4b572f749bd",
   "metadata": {},
   "outputs": [
    {
     "data": {
      "text/html": [
       "<pre style=\"white-space:pre;overflow-x:auto;line-height:normal;font-family:Menlo,'DejaVu Sans Mono',consolas,'Courier New',monospace\"><span style=\"color: #808000; text-decoration-color: #808000; font-weight: bold\">/opt/conda/lib/python3.11/site-packages/dlt/common/configuration/specs/config_providers_context.py:</span><span style=\"color: #808000; text-decoration-color: #808000; font-weight: bold\">138</span><span style=\"color: #808000; text-decoration-color: #808000; font-weight: bold\"> DeprecatedImportWarning</span><span style=\"color: #808000; text-decoration-color: #808000\">: The `airflow.operators.python.get_current_context` attribute is deprecated. Please use `</span><span style=\"color: #808000; text-decoration-color: #808000\">'airflow.sdk.get_current_context'</span><span style=\"color: #808000; text-decoration-color: #808000\">`.</span>\n",
       "</pre>\n"
      ],
      "text/plain": [
       "\u001b[1;33m/opt/conda/lib/python3.11/site-packages/dlt/common/configuration/specs/\u001b[0m\u001b[1;33mconfig_providers_context.py\u001b[0m\u001b[1;33m:\u001b[0m\u001b[1;33m138\u001b[0m\u001b[1;33m DeprecatedImportWarning\u001b[0m\u001b[33m: The `airflow.operators.python.get_current_context` attribute is deprecated. Please use `\u001b[0m\u001b[33m'airflow.sdk.get_current_context'\u001b[0m\u001b[33m`.\u001b[0m\n"
      ]
     },
     "metadata": {},
     "output_type": "display_data"
    }
   ],
   "source": [
    "\n",
    "def load_parquet_to_minio(parquet_url, batch_size=50000):\n",
    "    \"\"\"\n",
    "    Downloads and processes a remote Parquet file in batches, yielding pandas DataFrames.\n",
    "\n",
    "    This version is optimized for single Parquet files (not directory-partitioned).\n",
    "    It uses `fsspec` to stream the file over HTTPS and `pyarrow.parquet.ParquetFile`\n",
    "    to read it efficiently in row groups or batches. Ideal for scalable ingestion\n",
    "    in data pipelines like DLT, especially when loading into destinations such as MinIO.\n",
    "\n",
    "    Args:\n",
    "        parquet_url (str): Full URL of the remote Parquet file.\n",
    "        batch_size (int, optional): Number of rows per batch. Default is 50,000.\n",
    "\n",
    "    Yields:\n",
    "        pandas.DataFrame: A batch of rows converted from Parquet to pandas format.\n",
    "\n",
    "    Example:\n",
    "        >>> for df in load_parquet_to_minio(\"https://.../posts/2022.parquet\"):\n",
    "        >>>     process(df)\n",
    "    \"\"\"\n",
    "    timeout = ClientTimeout(total=600)\n",
    "    fs = fsspec.filesystem(\"https\", client_kwargs={\"timeout\": timeout})\n",
    "\n",
    "    with fs.open(parquet_url) as f:\n",
    "        parquet_file = pq.ParquetFile(f)\n",
    "        for batch in parquet_file.iter_batches(batch_size=batch_size):\n",
    "            yield batch.to_pandas()\n",
    "\n",
    "# POSTS 2022\n",
    "@dlt.resource(table_name=\"posts_2022\")\n",
    "def posts_2022():\n",
    "    url = \"https://datasets-documentation.s3.eu-west-3.amazonaws.com/stackoverflow/parquet/posts/2022.parquet\"\n",
    "    yield from load_parquet_to_minio(url)\n",
    "\n",
    "# POSTS 2023\n",
    "@dlt.resource(table_name=\"posts_2023\")\n",
    "def posts_2023():\n",
    "    url = \"https://datasets-documentation.s3.eu-west-3.amazonaws.com/stackoverflow/parquet/posts/2023.parquet\"\n",
    "    yield from load_parquet_to_minio(url)\n",
    "\n",
    "# VOTES 2022\n",
    "@dlt.resource(table_name=\"votes_2022\")\n",
    "def votes_2022():\n",
    "    url = \"https://datasets-documentation.s3.eu-west-3.amazonaws.com/stackoverflow/parquet/votes/2022.parquet\"\n",
    "    yield from load_parquet_to_minio(url)\n",
    "\n",
    "# VOTES 2023\n",
    "@dlt.resource(table_name=\"votes_2023\")\n",
    "def votes_2023():\n",
    "    url = \"https://datasets-documentation.s3.eu-west-3.amazonaws.com/stackoverflow/parquet/votes/2023.parquet\"\n",
    "    yield from load_parquet_to_minio(url)"
   ]
  },
  {
   "cell_type": "code",
   "execution_count": 4,
   "id": "be180a3e-2157-425e-9254-175f2e740880",
   "metadata": {},
   "outputs": [],
   "source": [
    "#pipeline_posts = dlt.pipeline(\n",
    "#    pipeline_name=\"parquet_to_minio\",\n",
    "#    destination=\"filesystem\",\n",
    "#    dataset_name=\"posts\",\n",
    "#)"
   ]
  },
  {
   "cell_type": "code",
   "execution_count": 5,
   "id": "3d5b86eb-18d4-478f-81d3-42a2577f15f0",
   "metadata": {},
   "outputs": [
    {
     "data": {
      "text/html": [
       "<pre style=\"white-space:pre;overflow-x:auto;line-height:normal;font-family:Menlo,'DejaVu Sans Mono',consolas,'Courier New',monospace\"><span style=\"color: #808000; text-decoration-color: #808000; font-weight: bold\">/opt/conda/lib/python3.11/site-packages/dlt/common/runtime/exec_info.py:</span><span style=\"color: #808000; text-decoration-color: #808000; font-weight: bold\">89</span><span style=\"color: #808000; text-decoration-color: #808000; font-weight: bold\"> DeprecatedImportWarning</span><span style=\"color: #808000; text-decoration-color: #808000\">: The `airflow.operators.python.get_current_context` attribute is deprecated. Please use `</span><span style=\"color: #808000; text-decoration-color: #808000\">'airflow.sdk.get_current_context'</span><span style=\"color: #808000; text-decoration-color: #808000\">`.</span>\n",
       "</pre>\n"
      ],
      "text/plain": [
       "\u001b[1;33m/opt/conda/lib/python3.11/site-packages/dlt/common/runtime/\u001b[0m\u001b[1;33mexec_info.py\u001b[0m\u001b[1;33m:\u001b[0m\u001b[1;33m89\u001b[0m\u001b[1;33m DeprecatedImportWarning\u001b[0m\u001b[33m: The `airflow.operators.python.get_current_context` attribute is deprecated. Please use `\u001b[0m\u001b[33m'airflow.sdk.get_current_context'\u001b[0m\u001b[33m`.\u001b[0m\n"
      ]
     },
     "metadata": {},
     "output_type": "display_data"
    }
   ],
   "source": [
    "pipeline_votes = dlt.pipeline(\n",
    "    pipeline_name=\"parquet_to_minio\",\n",
    "    destination=\"filesystem\",\n",
    "    dataset_name=\"votes\",\n",
    ")"
   ]
  },
  {
   "cell_type": "code",
   "execution_count": 5,
   "id": "8c3c7fb7",
   "metadata": {},
   "outputs": [],
   "source": [
    "# POSTS 2022\n",
    "# try:\n",
    "#     load_info = pipeline_posts.run(\n",
    "#         posts_2022(),\n",
    "#         table_name=\"2022\",\n",
    "#         loader_file_format=\"parquet\",\n",
    "#         write_disposition=\"replace\"\n",
    "#     )\n",
    "#     print(\"✅ posts/2022 loaded:\", load_info)\n",
    "# except Exception as e:\n",
    "#     print(\"❌ Error loading posts/2022:\", e)\n",
    "\n"
   ]
  },
  {
   "cell_type": "code",
   "execution_count": 6,
   "id": "0dd03b3b",
   "metadata": {},
   "outputs": [],
   "source": [
    "# POSTS 2023\n",
    "# try:\n",
    "#     load_info = pipeline_posts.run(\n",
    "#         posts_2023(),\n",
    "#         table_name=\"2023\",\n",
    "#         loader_file_format=\"parquet\",\n",
    "#         write_disposition=\"replace\"\n",
    "#     )\n",
    "#     print(\"✅ posts/2023 loaded:\", load_info)\n",
    "# except Exception as e:\n",
    "#     print(\"❌ Error loading posts/2023:\", e)"
   ]
  },
  {
   "cell_type": "code",
   "execution_count": null,
   "id": "a9f41982",
   "metadata": {},
   "outputs": [],
   "source": [
    "# VOTES 2022\n",
    "try:\n",
    "    load_info = pipeline_votes.run(\n",
    "        votes_2022(),\n",
    "        table_name=\"2022\",\n",
    "        loader_file_format=\"parquet\",\n",
    "        write_disposition=\"replace\"\n",
    "    )\n",
    "    print(\"✅ votes/2022 loaded:\", load_info)\n",
    "except Exception as e:\n",
    "    print(\"❌ Error loading votes/2022:\", e)\n"
   ]
  },
  {
   "cell_type": "code",
   "execution_count": null,
   "id": "98a8d365",
   "metadata": {},
   "outputs": [],
   "source": [
    "# VOTES 2023\n",
    "try:\n",
    "    load_info = pipeline_votes.run(\n",
    "        votes_2023(),\n",
    "        table_name=\"2023\",\n",
    "        loader_file_format=\"parquet\",\n",
    "        write_disposition=\"replace\"\n",
    "    )\n",
    "    print(\"✅ votes/2023 loaded:\", load_info)\n",
    "except Exception as e:\n",
    "    print(\"❌ Error loading votes/2023:\", e)"
   ]
  },
  {
   "cell_type": "code",
   "execution_count": null,
   "id": "6ead0f08-b0cb-49ba-bf6f-32610d18f40e",
   "metadata": {},
   "outputs": [],
   "source": []
  }
 ],
 "metadata": {
  "kernelspec": {
   "display_name": "Python 3 (ipykernel)",
   "language": "python",
   "name": "python3"
  },
  "language_info": {
   "codemirror_mode": {
    "name": "ipython",
    "version": 3
   },
   "file_extension": ".py",
   "mimetype": "text/x-python",
   "name": "python",
   "nbconvert_exporter": "python",
   "pygments_lexer": "ipython3",
   "version": "3.11.6"
  }
 },
 "nbformat": 4,
 "nbformat_minor": 5
}
