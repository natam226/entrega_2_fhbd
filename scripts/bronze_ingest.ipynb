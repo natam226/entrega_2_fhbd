{
 "cells": [
  {
   "cell_type": "code",
   "execution_count": 1,
   "id": "e0369e4e",
   "metadata": {
    "vscode": {
     "languageId": "plaintext"
    }
   },
   "outputs": [],
   "source": [
    "import dlt\n",
    "import pyarrow.parquet as pq\n",
    "import pyarrow.dataset as ds\n",
    "import fsspec\n",
    "from aiohttp import ClientTimeout"
   ]
  },
  {
   "cell_type": "code",
   "execution_count": 2,
   "id": "2607b0c4-8bc3-4be5-9b73-f4b572f749bd",
   "metadata": {},
   "outputs": [
    {
     "data": {
      "text/html": [
       "<pre style=\"white-space:pre;overflow-x:auto;line-height:normal;font-family:Menlo,'DejaVu Sans Mono',consolas,'Courier New',monospace\"><span style=\"color: #808000; text-decoration-color: #808000; font-weight: bold\">/opt/conda/lib/python3.11/site-packages/dlt/common/configuration/specs/config_providers_context.py:</span><span style=\"color: #808000; text-decoration-color: #808000; font-weight: bold\">138</span><span style=\"color: #808000; text-decoration-color: #808000; font-weight: bold\"> DeprecatedImportWarning</span><span style=\"color: #808000; text-decoration-color: #808000\">: The `airflow.operators.python.get_current_context` attribute is deprecated. Please use `</span><span style=\"color: #808000; text-decoration-color: #808000\">'airflow.sdk.get_current_context'</span><span style=\"color: #808000; text-decoration-color: #808000\">`.</span>\n",
       "</pre>\n"
      ],
      "text/plain": [
       "\u001b[1;33m/opt/conda/lib/python3.11/site-packages/dlt/common/configuration/specs/\u001b[0m\u001b[1;33mconfig_providers_context.py\u001b[0m\u001b[1;33m:\u001b[0m\u001b[1;33m138\u001b[0m\u001b[1;33m DeprecatedImportWarning\u001b[0m\u001b[33m: The `airflow.operators.python.get_current_context` attribute is deprecated. Please use `\u001b[0m\u001b[33m'airflow.sdk.get_current_context'\u001b[0m\u001b[33m`.\u001b[0m\n"
      ]
     },
     "metadata": {},
     "output_type": "display_data"
    }
   ],
   "source": [
    "@dlt.resource(table_name=\"comments_2022\")\n",
    "def my_df():\n",
    "    parquet_url = (\n",
    "        \"https://datasets-documentation.s3.eu-west-3.amazonaws.com/\"\n",
    "        \"stackoverflow/parquet/comments/2022.parquet\"\n",
    "    )\n",
    "\n",
    "    timeout = ClientTimeout(total=600)\n",
    "    fs = fsspec.filesystem(\"https\", client_kwargs={\"timeout\": timeout})\n",
    "\n",
    "    dataset = ds.dataset(\n",
    "        parquet_url,\n",
    "        format=\"parquet\",\n",
    "        filesystem=fs,\n",
    "        partitioning=\"hive\"\n",
    "    )\n",
    "\n",
    "    for batch in dataset.to_batches(batch_size=50000):\n",
    "        df = batch.to_pandas()\n",
    "        yield df\n"
   ]
  },
  {
   "cell_type": "code",
   "execution_count": 3,
   "id": "be180a3e-2157-425e-9254-175f2e740880",
   "metadata": {},
   "outputs": [
    {
     "data": {
      "text/html": [
       "<pre style=\"white-space:pre;overflow-x:auto;line-height:normal;font-family:Menlo,'DejaVu Sans Mono',consolas,'Courier New',monospace\"><span style=\"color: #808000; text-decoration-color: #808000; font-weight: bold\">/opt/conda/lib/python3.11/site-packages/dlt/common/runtime/exec_info.py:</span><span style=\"color: #808000; text-decoration-color: #808000; font-weight: bold\">89</span><span style=\"color: #808000; text-decoration-color: #808000; font-weight: bold\"> DeprecatedImportWarning</span><span style=\"color: #808000; text-decoration-color: #808000\">: The `airflow.operators.python.get_current_context` attribute is deprecated. Please use `</span><span style=\"color: #808000; text-decoration-color: #808000\">'airflow.sdk.get_current_context'</span><span style=\"color: #808000; text-decoration-color: #808000\">`.</span>\n",
       "</pre>\n"
      ],
      "text/plain": [
       "\u001b[1;33m/opt/conda/lib/python3.11/site-packages/dlt/common/runtime/\u001b[0m\u001b[1;33mexec_info.py\u001b[0m\u001b[1;33m:\u001b[0m\u001b[1;33m89\u001b[0m\u001b[1;33m DeprecatedImportWarning\u001b[0m\u001b[33m: The `airflow.operators.python.get_current_context` attribute is deprecated. Please use `\u001b[0m\u001b[33m'airflow.sdk.get_current_context'\u001b[0m\u001b[33m`.\u001b[0m\n"
      ]
     },
     "metadata": {},
     "output_type": "display_data"
    },
    {
     "name": "stdout",
     "output_type": "stream",
     "text": [
      "Pipeline parquet_to_minio load step completed in 15.42 seconds\n",
      "1 load package(s) were loaded to destination filesystem and into dataset comments\n",
      "The filesystem destination used s3://bronze location to store data\n",
      "Load package 1759958974.4578214 is LOADED and contains no failed jobs\n"
     ]
    }
   ],
   "source": [
    "pipeline = dlt.pipeline(\n",
    "    pipeline_name=\"parquet_to_minio\",\n",
    "    destination=\"filesystem\",\n",
    "    dataset_name=\"comments\",\n",
    ")\n",
    "\n",
    "load_info = pipeline.run(\n",
    "    my_df,\n",
    "    loader_file_format=\"parquet\",\n",
    "    write_disposition=\"replace\"\n",
    ")\n",
    "print(load_info)"
   ]
  }
 ],
 "metadata": {
  "kernelspec": {
   "display_name": "Python 3 (ipykernel)",
   "language": "python",
   "name": "python3"
  },
  "language_info": {
   "codemirror_mode": {
    "name": "ipython",
    "version": 3
   },
   "file_extension": ".py",
   "mimetype": "text/x-python",
   "name": "python",
   "nbconvert_exporter": "python",
   "pygments_lexer": "ipython3",
   "version": "3.11.6"
  }
 },
 "nbformat": 4,
 "nbformat_minor": 5
}
