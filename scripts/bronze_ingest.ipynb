{
 "cells": [
  {
   "cell_type": "code",
   "execution_count": 1,
   "id": "e0369e4e",
   "metadata": {},
   "outputs": [],
   "source": [
    "import dlt\n",
    "import pyarrow.parquet as pq\n",
    "import fsspec"
   ]
  },
  {
   "cell_type": "code",
   "execution_count": 2,
   "id": "c0770288",
   "metadata": {},
   "outputs": [
    {
     "data": {
      "text/html": [
       "<pre style=\"white-space:pre;overflow-x:auto;line-height:normal;font-family:Menlo,'DejaVu Sans Mono',consolas,'Courier New',monospace\"><span style=\"color: #808000; text-decoration-color: #808000; font-weight: bold\">/opt/conda/lib/python3.11/site-packages/dlt/common/configuration/specs/config_providers_context.py:</span><span style=\"color: #808000; text-decoration-color: #808000; font-weight: bold\">138</span><span style=\"color: #808000; text-decoration-color: #808000; font-weight: bold\"> DeprecatedImportWarning</span><span style=\"color: #808000; text-decoration-color: #808000\">: The `airflow.operators.python.get_current_context` attribute is deprecated. Please use `</span><span style=\"color: #808000; text-decoration-color: #808000\">'airflow.sdk.get_current_context'</span><span style=\"color: #808000; text-decoration-color: #808000\">`.</span>\n",
       "</pre>\n"
      ],
      "text/plain": [
       "\u001b[1;33m/opt/conda/lib/python3.11/site-packages/dlt/common/configuration/specs/\u001b[0m\u001b[1;33mconfig_providers_context.py\u001b[0m\u001b[1;33m:\u001b[0m\u001b[1;33m138\u001b[0m\u001b[1;33m DeprecatedImportWarning\u001b[0m\u001b[33m: The `airflow.operators.python.get_current_context` attribute is deprecated. Please use `\u001b[0m\u001b[33m'airflow.sdk.get_current_context'\u001b[0m\u001b[33m`.\u001b[0m\n"
      ]
     },
     "metadata": {},
     "output_type": "display_data"
    },
    {
     "data": {
      "text/html": [
       "<pre style=\"white-space:pre;overflow-x:auto;line-height:normal;font-family:Menlo,'DejaVu Sans Mono',consolas,'Courier New',monospace\"><span style=\"color: #808000; text-decoration-color: #808000; font-weight: bold\">/opt/conda/lib/python3.11/site-packages/dlt/common/runtime/exec_info.py:</span><span style=\"color: #808000; text-decoration-color: #808000; font-weight: bold\">89</span><span style=\"color: #808000; text-decoration-color: #808000; font-weight: bold\"> DeprecatedImportWarning</span><span style=\"color: #808000; text-decoration-color: #808000\">: The `airflow.operators.python.get_current_context` attribute is deprecated. Please use `</span><span style=\"color: #808000; text-decoration-color: #808000\">'airflow.sdk.get_current_context'</span><span style=\"color: #808000; text-decoration-color: #808000\">`.</span>\n",
       "</pre>\n"
      ],
      "text/plain": [
       "\u001b[1;33m/opt/conda/lib/python3.11/site-packages/dlt/common/runtime/\u001b[0m\u001b[1;33mexec_info.py\u001b[0m\u001b[1;33m:\u001b[0m\u001b[1;33m89\u001b[0m\u001b[1;33m DeprecatedImportWarning\u001b[0m\u001b[33m: The `airflow.operators.python.get_current_context` attribute is deprecated. Please use `\u001b[0m\u001b[33m'airflow.sdk.get_current_context'\u001b[0m\u001b[33m`.\u001b[0m\n"
      ]
     },
     "metadata": {},
     "output_type": "display_data"
    },
    {
     "name": "stdout",
     "output_type": "stream",
     "text": [
      "Pipeline parquet_to_minio load step completed in 3.04 seconds\n",
      "1 load package(s) were loaded to destination filesystem and into dataset comments\n",
      "The filesystem destination used s3://bronze location to store data\n",
      "Load package 1760209491.8317685 is LOADED and contains no failed jobs\n"
     ]
    }
   ],
   "source": [
    "@dlt.resource(table_name=\"2022\")\n",
    "def my_df():\n",
    "    parquet_url = \"https://datasets-documentation.s3.eu-west-3.amazonaws.com/stackoverflow/parquet/comments/2022.parquet\"\n",
    "    with fsspec.open(parquet_url, mode=\"rb\") as f:\n",
    "        table = pq.read_table(f)\n",
    "        df = table.to_pandas()\n",
    "        yield df\n",
    "\n",
    "pipeline = dlt.pipeline(\n",
    "    pipeline_name=\"parquet_to_minio\",\n",
    "    destination=\"filesystem\",\n",
    "    dataset_name=\"comments\",\n",
    ")\n",
    "\n",
    "load_info = pipeline.run(\n",
    "    my_df,\n",
    "    loader_file_format=\"parquet\",\n",
    "    write_disposition=\"replace\"\n",
    ")\n",
    "print(load_info)"
   ]
  },
  {
   "cell_type": "code",
   "execution_count": 4,
   "id": "dbce1c14-fd17-4a3f-8956-203d68355624",
   "metadata": {},
   "outputs": [
    {
     "name": "stdout",
     "output_type": "stream",
     "text": [
      "Collecting pyarrow==15.0.2\n",
      "  Downloading pyarrow-15.0.2-cp311-cp311-manylinux_2_28_x86_64.whl.metadata (3.0 kB)\n",
      "Requirement already satisfied: numpy<2,>=1.16.6 in /opt/conda/lib/python3.11/site-packages (from pyarrow==15.0.2) (1.26.4)\n",
      "Downloading pyarrow-15.0.2-cp311-cp311-manylinux_2_28_x86_64.whl (38.3 MB)\n",
      "\u001b[2K   \u001b[90m━━━━━━━━━━━━━━━━━━━━━━━━━━━━━━━━━━━━━━━━\u001b[0m \u001b[32m38.3/38.3 MB\u001b[0m \u001b[31m26.9 MB/s\u001b[0m eta \u001b[36m0:00:00\u001b[0m00:01\u001b[0m00:01\u001b[0m\n",
      "\u001b[?25hInstalling collected packages: pyarrow\n",
      "  Attempting uninstall: pyarrow\n",
      "    Found existing installation: pyarrow 12.0.1\n",
      "    Uninstalling pyarrow-12.0.1:\n",
      "      Successfully uninstalled pyarrow-12.0.1\n",
      "Successfully installed pyarrow-15.0.2\n",
      "Note: you may need to restart the kernel to use updated packages.\n"
     ]
    }
   ],
   "source": [
    "pip install -U pyarrow==15.0.2\n"
   ]
  }
 ],
 "metadata": {
  "kernelspec": {
   "display_name": "Python 3 (ipykernel)",
   "language": "python",
   "name": "python3"
  },
  "language_info": {
   "codemirror_mode": {
    "name": "ipython",
    "version": 3
   },
   "file_extension": ".py",
   "mimetype": "text/x-python",
   "name": "python",
   "nbconvert_exporter": "python",
   "pygments_lexer": "ipython3",
   "version": "3.11.6"
  }
 },
 "nbformat": 4,
 "nbformat_minor": 5
}
