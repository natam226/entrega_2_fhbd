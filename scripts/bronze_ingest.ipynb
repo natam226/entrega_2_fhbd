{
 "cells": [
  {
   "cell_type": "code",
   "execution_count": 2,
   "id": "e0369e4e",
   "metadata": {
    "vscode": {
     "languageId": "plaintext"
    }
   },
   "outputs": [],
   "source": [
    "import dlt\n",
    "import pyarrow.parquet as pq\n",
    "import fsspec"
   ]
  },
  {
   "cell_type": "code",
   "execution_count": 3,
   "id": "c0770288",
   "metadata": {
    "vscode": {
     "languageId": "plaintext"
    }
   },
   "outputs": [
    {
     "data": {
      "text/html": [
       "<pre style=\"white-space:pre;overflow-x:auto;line-height:normal;font-family:Menlo,'DejaVu Sans Mono',consolas,'Courier New',monospace\"><span style=\"color: #808000; text-decoration-color: #808000; font-weight: bold\">/opt/conda/lib/python3.11/site-packages/dlt/common/configuration/specs/config_providers_context.py:</span><span style=\"color: #808000; text-decoration-color: #808000; font-weight: bold\">138</span><span style=\"color: #808000; text-decoration-color: #808000; font-weight: bold\"> DeprecatedImportWarning</span><span style=\"color: #808000; text-decoration-color: #808000\">: The `airflow.operators.python.get_current_context` attribute is deprecated. Please use `</span><span style=\"color: #808000; text-decoration-color: #808000\">'airflow.sdk.get_current_context'</span><span style=\"color: #808000; text-decoration-color: #808000\">`.</span>\n",
       "</pre>\n"
      ],
      "text/plain": [
       "\u001b[1;33m/opt/conda/lib/python3.11/site-packages/dlt/common/configuration/specs/\u001b[0m\u001b[1;33mconfig_providers_context.py\u001b[0m\u001b[1;33m:\u001b[0m\u001b[1;33m138\u001b[0m\u001b[1;33m DeprecatedImportWarning\u001b[0m\u001b[33m: The `airflow.operators.python.get_current_context` attribute is deprecated. Please use `\u001b[0m\u001b[33m'airflow.sdk.get_current_context'\u001b[0m\u001b[33m`.\u001b[0m\n"
      ]
     },
     "metadata": {},
     "output_type": "display_data"
    },
    {
     "data": {
      "text/html": [
       "<pre style=\"white-space:pre;overflow-x:auto;line-height:normal;font-family:Menlo,'DejaVu Sans Mono',consolas,'Courier New',monospace\"><span style=\"color: #808000; text-decoration-color: #808000; font-weight: bold\">/opt/conda/lib/python3.11/site-packages/dlt/common/runtime/exec_info.py:</span><span style=\"color: #808000; text-decoration-color: #808000; font-weight: bold\">89</span><span style=\"color: #808000; text-decoration-color: #808000; font-weight: bold\"> DeprecatedImportWarning</span><span style=\"color: #808000; text-decoration-color: #808000\">: The `airflow.operators.python.get_current_context` attribute is deprecated. Please use `</span><span style=\"color: #808000; text-decoration-color: #808000\">'airflow.sdk.get_current_context'</span><span style=\"color: #808000; text-decoration-color: #808000\">`.</span>\n",
       "</pre>\n"
      ],
      "text/plain": [
       "\u001b[1;33m/opt/conda/lib/python3.11/site-packages/dlt/common/runtime/\u001b[0m\u001b[1;33mexec_info.py\u001b[0m\u001b[1;33m:\u001b[0m\u001b[1;33m89\u001b[0m\u001b[1;33m DeprecatedImportWarning\u001b[0m\u001b[33m: The `airflow.operators.python.get_current_context` attribute is deprecated. Please use `\u001b[0m\u001b[33m'airflow.sdk.get_current_context'\u001b[0m\u001b[33m`.\u001b[0m\n"
      ]
     },
     "metadata": {},
     "output_type": "display_data"
    },
    {
     "name": "stdout",
     "output_type": "stream",
     "text": [
      "Pipeline parquet_to_minio load step completed in 4.17 seconds\n",
      "1 load package(s) were loaded to destination filesystem and into dataset bronze\n",
      "The filesystem destination used s3://bronze location to store data\n",
      "Load package 1759774598.6197248 is LOADED and contains no failed jobs\n"
     ]
    }
   ],
   "source": [
    "@dlt.resource(table_name=\"comments_2022\")\n",
    "def my_df():\n",
    "    parquet_url = \"https://datasets-documentation.s3.eu-west-3.amazonaws.com/stackoverflow/parquet/comments/2022.parquet\"\n",
    "    with fsspec.open(parquet_url, mode=\"rb\") as f:\n",
    "        table = pq.read_table(f)\n",
    "        df = table.to_pandas()\n",
    "        yield df\n",
    "\n",
    "pipeline = dlt.pipeline(\n",
    "    pipeline_name=\"parquet_to_minio\",\n",
    "    destination=\"filesystem\",\n",
    "    dataset_name=\"bronze\",\n",
    ")\n",
    "\n",
    "load_info = pipeline.run(\n",
    "    my_df,\n",
    "    loader_file_format=\"parquet\",\n",
    "    write_disposition=\"replace\"\n",
    ")\n",
    "print(load_info)"
   ]
  },
  {
   "cell_type": "code",
   "execution_count": null,
   "id": "ba3066c6-2bdf-465f-ac82-805a9c964be7",
   "metadata": {},
   "outputs": [],
   "source": []
  }
 ],
 "metadata": {
  "kernelspec": {
   "display_name": "Python 3 (ipykernel)",
   "language": "python",
   "name": "python3"
  },
  "language_info": {
   "codemirror_mode": {
    "name": "ipython",
    "version": 3
   },
   "file_extension": ".py",
   "mimetype": "text/x-python",
   "name": "python",
   "nbconvert_exporter": "python",
   "pygments_lexer": "ipython3",
   "version": "3.11.6"
  }
 },
 "nbformat": 4,
 "nbformat_minor": 5
}
